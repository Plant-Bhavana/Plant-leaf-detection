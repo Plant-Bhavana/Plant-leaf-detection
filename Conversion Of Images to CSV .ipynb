{
 "cells": [
  {
   "cell_type": "markdown",
   "metadata": {},
   "source": [
    "### Preprocessing Image Folder to CSV File"
   ]
  },
  {
   "cell_type": "code",
   "execution_count": 1,
   "metadata": {},
   "outputs": [
    {
     "data": {
      "text/plain": [
       "['Tomato___Bacterial_spot',\n",
       " 'Tomato___Early_blight',\n",
       " 'Tomato___healthy',\n",
       " 'Tomato___Late_blight',\n",
       " 'Tomato___Leaf_Mold',\n",
       " 'Tomato___Septoria_leaf_spot',\n",
       " 'Tomato___Spider_mites Two-spotted_spider_mite',\n",
       " 'Tomato___Target_Spot',\n",
       " 'Tomato___Tomato_mosaic_virus',\n",
       " 'Tomato___Tomato_Yellow_Leaf_Curl_Virus']"
      ]
     },
     "execution_count": 1,
     "metadata": {},
     "output_type": "execute_result"
    }
   ],
   "source": [
    "import numpy as np\n",
    "from os import listdir\n",
    "import pandas as pd\n",
    "import os\n",
    "os.listdir(\"C://Users//ANIL THANVI//Desktop//Machine Learning A-Z Template Folder//Tomato//New Plant Diseases Dataset(Augmented)//train/\")"
   ]
  },
  {
   "cell_type": "code",
   "execution_count": 3,
   "metadata": {},
   "outputs": [],
   "source": [
    "list_of_dir = os.listdir(\"C://Users//ANIL THANVI//Desktop//Machine Learning A-Z Template Folder//Tomato//New Plant Diseases Dataset(Augmented)//train/\")"
   ]
  },
  {
   "cell_type": "code",
   "execution_count": 4,
   "metadata": {},
   "outputs": [],
   "source": [
    "def create(location , var):\n",
    "    import cv2\n",
    "    import glob\n",
    "    X_data = []\n",
    "    files = glob.glob(\"C://Users//ANIL THANVI//Desktop//Machine Learning A-Z Template Folder//Tomato//New Plant Diseases Dataset(Augmented)//train/\"+location+\"/*.JPG\")\n",
    "    for myFile in files:\n",
    "        #print(myFile)\n",
    "        image = cv2.imread (myFile)\n",
    "        image = cv2.resize(image, (64,64)) \n",
    "        X_data.append (image)\n",
    "    print('X_data shape:', np.array(X_data).shape)\n",
    "    numpy_entry = np.array(X_data).reshape(np.array(X_data).shape[0] , np.array(X_data).shape[1]*np.array(X_data).shape[2]*np.array(X_data).shape[3])\n",
    "    print('numpy_entry shape:', numpy_entry.shape)\n",
    "    df=pd.DataFrame(data=numpy_entry[0:,0:],index=[i for i in range(numpy_entry.shape[0])],columns=['Pixel '+str(i) for i in range(numpy_entry.shape[1])])\n",
    "    df['Category'] = var\n",
    "    return df"
   ]
  },
  {
   "cell_type": "code",
   "execution_count": 7,
   "metadata": {},
   "outputs": [
    {
     "name": "stdout",
     "output_type": "stream",
     "text": [
      "X_data shape: (1702, 64, 64, 3)\n",
      "numpy_entry shape: (1702, 12288)\n",
      " Done For  Tomato___Bacterial_spot  With category Value  0\n",
      "Master Data Frame    (1702, 12289)\n",
      "X_data shape: (1920, 64, 64, 3)\n",
      "numpy_entry shape: (1920, 12288)\n",
      " Done For  Tomato___Early_blight  With category Value  1\n",
      "Master Data Frame    (3622, 12289)\n",
      "X_data shape: (1926, 64, 64, 3)\n",
      "numpy_entry shape: (1926, 12288)\n",
      " Done For  Tomato___healthy  With category Value  2\n",
      "Master Data Frame    (5548, 12289)\n",
      "X_data shape: (1851, 64, 64, 3)\n",
      "numpy_entry shape: (1851, 12288)\n",
      " Done For  Tomato___Late_blight  With category Value  3\n",
      "Master Data Frame    (7399, 12289)\n",
      "X_data shape: (1882, 64, 64, 3)\n",
      "numpy_entry shape: (1882, 12288)\n",
      " Done For  Tomato___Leaf_Mold  With category Value  4\n",
      "Master Data Frame    (9281, 12289)\n",
      "X_data shape: (1745, 64, 64, 3)\n",
      "numpy_entry shape: (1745, 12288)\n",
      " Done For  Tomato___Septoria_leaf_spot  With category Value  5\n",
      "Master Data Frame    (11026, 12289)\n",
      "X_data shape: (1741, 64, 64, 3)\n",
      "numpy_entry shape: (1741, 12288)\n",
      " Done For  Tomato___Spider_mites Two-spotted_spider_mite  With category Value  6\n",
      "Master Data Frame    (12767, 12289)\n",
      "X_data shape: (1827, 64, 64, 3)\n",
      "numpy_entry shape: (1827, 12288)\n",
      "X_data shape: (1790, 64, 64, 3)\n",
      "numpy_entry shape: (1790, 12288)\n",
      " Done For  Tomato___Tomato_mosaic_virus  With category Value  8\n",
      "Master Data Frame    (16384, 12289)\n",
      "X_data shape: (1961, 64, 64, 3)\n",
      "numpy_entry shape: (1961, 12288)\n",
      " Done For  Tomato___Tomato_Yellow_Leaf_Curl_Virus  With category Value  9\n",
      "Master Data Frame    (18345, 12289)\n"
     ]
    }
   ],
   "source": [
    "master_df=pd.DataFrame(columns=['Pixel '+str(i) for i in range(64*64*3)])\n",
    "var = 0\n",
    "Req=list_of_dir\n",
    "for i in Req:\n",
    "    df = create(i,var)\n",
    "    frames=[master_df , df]\n",
    "    master_df = pd.concat(frames)\n",
    "    print(\" Done For \",i,\" With category Value \",var)\n",
    "    print(\"Master Data Frame   \",master_df.shape)\n",
    "    var = var + 1"
   ]
  },
  {
   "cell_type": "code",
   "execution_count": 8,
   "metadata": {},
   "outputs": [],
   "source": [
    "master_df.to_csv('data.csv')"
   ]
  },
  {
   "cell_type": "code",
   "execution_count": 9,
   "metadata": {},
   "outputs": [
    {
     "data": {
      "text/html": [
       "<div>\n",
       "<style scoped>\n",
       "    .dataframe tbody tr th:only-of-type {\n",
       "        vertical-align: middle;\n",
       "    }\n",
       "\n",
       "    .dataframe tbody tr th {\n",
       "        vertical-align: top;\n",
       "    }\n",
       "\n",
       "    .dataframe thead th {\n",
       "        text-align: right;\n",
       "    }\n",
       "</style>\n",
       "<table border=\"1\" class=\"dataframe\">\n",
       "  <thead>\n",
       "    <tr style=\"text-align: right;\">\n",
       "      <th></th>\n",
       "      <th>Pixel 0</th>\n",
       "      <th>Pixel 1</th>\n",
       "      <th>Pixel 2</th>\n",
       "      <th>Pixel 3</th>\n",
       "      <th>Pixel 4</th>\n",
       "      <th>Pixel 5</th>\n",
       "      <th>Pixel 6</th>\n",
       "      <th>Pixel 7</th>\n",
       "      <th>Pixel 8</th>\n",
       "      <th>Pixel 9</th>\n",
       "      <th>...</th>\n",
       "      <th>Pixel 12279</th>\n",
       "      <th>Pixel 12280</th>\n",
       "      <th>Pixel 12281</th>\n",
       "      <th>Pixel 12282</th>\n",
       "      <th>Pixel 12283</th>\n",
       "      <th>Pixel 12284</th>\n",
       "      <th>Pixel 12285</th>\n",
       "      <th>Pixel 12286</th>\n",
       "      <th>Pixel 12287</th>\n",
       "      <th>Category</th>\n",
       "    </tr>\n",
       "  </thead>\n",
       "  <tbody>\n",
       "    <tr>\n",
       "      <th>0</th>\n",
       "      <td>148</td>\n",
       "      <td>148</td>\n",
       "      <td>154</td>\n",
       "      <td>149</td>\n",
       "      <td>149</td>\n",
       "      <td>155</td>\n",
       "      <td>144</td>\n",
       "      <td>144</td>\n",
       "      <td>150</td>\n",
       "      <td>145</td>\n",
       "      <td>...</td>\n",
       "      <td>112</td>\n",
       "      <td>110</td>\n",
       "      <td>116</td>\n",
       "      <td>109</td>\n",
       "      <td>107</td>\n",
       "      <td>113</td>\n",
       "      <td>113</td>\n",
       "      <td>111</td>\n",
       "      <td>117</td>\n",
       "      <td>0.0</td>\n",
       "    </tr>\n",
       "    <tr>\n",
       "      <th>1</th>\n",
       "      <td>107</td>\n",
       "      <td>108</td>\n",
       "      <td>118</td>\n",
       "      <td>108</td>\n",
       "      <td>109</td>\n",
       "      <td>119</td>\n",
       "      <td>111</td>\n",
       "      <td>112</td>\n",
       "      <td>122</td>\n",
       "      <td>112</td>\n",
       "      <td>...</td>\n",
       "      <td>164</td>\n",
       "      <td>163</td>\n",
       "      <td>165</td>\n",
       "      <td>165</td>\n",
       "      <td>164</td>\n",
       "      <td>166</td>\n",
       "      <td>164</td>\n",
       "      <td>163</td>\n",
       "      <td>165</td>\n",
       "      <td>0.0</td>\n",
       "    </tr>\n",
       "    <tr>\n",
       "      <th>2</th>\n",
       "      <td>115</td>\n",
       "      <td>118</td>\n",
       "      <td>122</td>\n",
       "      <td>103</td>\n",
       "      <td>106</td>\n",
       "      <td>110</td>\n",
       "      <td>114</td>\n",
       "      <td>117</td>\n",
       "      <td>121</td>\n",
       "      <td>116</td>\n",
       "      <td>...</td>\n",
       "      <td>163</td>\n",
       "      <td>161</td>\n",
       "      <td>160</td>\n",
       "      <td>162</td>\n",
       "      <td>160</td>\n",
       "      <td>159</td>\n",
       "      <td>160</td>\n",
       "      <td>158</td>\n",
       "      <td>157</td>\n",
       "      <td>0.0</td>\n",
       "    </tr>\n",
       "    <tr>\n",
       "      <th>3</th>\n",
       "      <td>160</td>\n",
       "      <td>159</td>\n",
       "      <td>161</td>\n",
       "      <td>157</td>\n",
       "      <td>156</td>\n",
       "      <td>158</td>\n",
       "      <td>160</td>\n",
       "      <td>159</td>\n",
       "      <td>161</td>\n",
       "      <td>163</td>\n",
       "      <td>...</td>\n",
       "      <td>118</td>\n",
       "      <td>119</td>\n",
       "      <td>123</td>\n",
       "      <td>121</td>\n",
       "      <td>122</td>\n",
       "      <td>126</td>\n",
       "      <td>124</td>\n",
       "      <td>125</td>\n",
       "      <td>129</td>\n",
       "      <td>0.0</td>\n",
       "    </tr>\n",
       "    <tr>\n",
       "      <th>4</th>\n",
       "      <td>163</td>\n",
       "      <td>163</td>\n",
       "      <td>169</td>\n",
       "      <td>163</td>\n",
       "      <td>163</td>\n",
       "      <td>169</td>\n",
       "      <td>159</td>\n",
       "      <td>159</td>\n",
       "      <td>165</td>\n",
       "      <td>159</td>\n",
       "      <td>...</td>\n",
       "      <td>111</td>\n",
       "      <td>111</td>\n",
       "      <td>123</td>\n",
       "      <td>113</td>\n",
       "      <td>113</td>\n",
       "      <td>125</td>\n",
       "      <td>110</td>\n",
       "      <td>110</td>\n",
       "      <td>122</td>\n",
       "      <td>0.0</td>\n",
       "    </tr>\n",
       "  </tbody>\n",
       "</table>\n",
       "<p>5 rows × 12289 columns</p>\n",
       "</div>"
      ],
      "text/plain": [
       "  Pixel 0 Pixel 1 Pixel 2 Pixel 3 Pixel 4 Pixel 5 Pixel 6 Pixel 7 Pixel 8  \\\n",
       "0     148     148     154     149     149     155     144     144     150   \n",
       "1     107     108     118     108     109     119     111     112     122   \n",
       "2     115     118     122     103     106     110     114     117     121   \n",
       "3     160     159     161     157     156     158     160     159     161   \n",
       "4     163     163     169     163     163     169     159     159     165   \n",
       "\n",
       "  Pixel 9  ... Pixel 12279 Pixel 12280 Pixel 12281 Pixel 12282 Pixel 12283  \\\n",
       "0     145  ...         112         110         116         109         107   \n",
       "1     112  ...         164         163         165         165         164   \n",
       "2     116  ...         163         161         160         162         160   \n",
       "3     163  ...         118         119         123         121         122   \n",
       "4     159  ...         111         111         123         113         113   \n",
       "\n",
       "  Pixel 12284 Pixel 12285 Pixel 12286 Pixel 12287 Category  \n",
       "0         113         113         111         117      0.0  \n",
       "1         166         164         163         165      0.0  \n",
       "2         159         160         158         157      0.0  \n",
       "3         126         124         125         129      0.0  \n",
       "4         125         110         110         122      0.0  \n",
       "\n",
       "[5 rows x 12289 columns]"
      ]
     },
     "execution_count": 9,
     "metadata": {},
     "output_type": "execute_result"
    }
   ],
   "source": [
    "master_df.head()"
   ]
  },
  {
   "cell_type": "code",
   "execution_count": 10,
   "metadata": {},
   "outputs": [
    {
     "data": {
      "text/plain": [
       "(18345, 12289)"
      ]
     },
     "execution_count": 10,
     "metadata": {},
     "output_type": "execute_result"
    }
   ],
   "source": [
    "master_df.shape"
   ]
  },
  {
   "cell_type": "code",
   "execution_count": 11,
   "metadata": {},
   "outputs": [
    {
     "data": {
      "text/plain": [
       "Index(['Pixel 0', 'Pixel 1', 'Pixel 2', 'Pixel 3', 'Pixel 4', 'Pixel 5',\n",
       "       'Pixel 6', 'Pixel 7', 'Pixel 8', 'Pixel 9',\n",
       "       ...\n",
       "       'Pixel 12279', 'Pixel 12280', 'Pixel 12281', 'Pixel 12282',\n",
       "       'Pixel 12283', 'Pixel 12284', 'Pixel 12285', 'Pixel 12286',\n",
       "       'Pixel 12287', 'Category'],\n",
       "      dtype='object', length=12289)"
      ]
     },
     "execution_count": 11,
     "metadata": {},
     "output_type": "execute_result"
    }
   ],
   "source": [
    "master_df.columns"
   ]
  },
  {
   "cell_type": "code",
   "execution_count": 12,
   "metadata": {},
   "outputs": [
    {
     "data": {
      "text/plain": [
       "array([0., 1., 2., 3., 4., 5., 6., 7., 8., 9.])"
      ]
     },
     "execution_count": 12,
     "metadata": {},
     "output_type": "execute_result"
    }
   ],
   "source": [
    "master_df['Category'].unique()"
   ]
  },
  {
   "cell_type": "code",
   "execution_count": null,
   "metadata": {},
   "outputs": [],
   "source": []
  }
 ],
 "metadata": {
  "kernelspec": {
   "display_name": "Python 3",
   "language": "python",
   "name": "python3"
  },
  "language_info": {
   "codemirror_mode": {
    "name": "ipython",
    "version": 3
   },
   "file_extension": ".py",
   "mimetype": "text/x-python",
   "name": "python",
   "nbconvert_exporter": "python",
   "pygments_lexer": "ipython3",
   "version": "3.7.3"
  }
 },
 "nbformat": 4,
 "nbformat_minor": 4
}
